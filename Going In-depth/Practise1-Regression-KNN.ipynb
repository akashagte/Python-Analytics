{
 "cells": [
  {
   "cell_type": "code",
   "execution_count": 168,
   "metadata": {
    "collapsed": true
   },
   "outputs": [],
   "source": [
    "%matplotlib inline\n",
    "import sys\n",
    "import pandas as pd\n",
    "import numpy as np\n",
    "import matplotlib.pyplot as plt\n",
    "from __future__ import print_function\n",
    "from sklearn.cross_validation import cross_val_score"
   ]
  },
  {
   "cell_type": "code",
   "execution_count": 169,
   "metadata": {
    "collapsed": false
   },
   "outputs": [
    {
     "name": "stdout",
     "output_type": "stream",
     "text": [
      "[-2.62 -3.91 -4.39 -5.57 -4.78]\n",
      "[ 0.73  0.47 -1.01  0.64  0.55  0.74  0.38 -0.13 -0.78  0.42]\n"
     ]
    }
   ],
   "source": [
    "#LINEAR REGRESSION\n",
    "\"\"\"using K-fold CV\"\"\"\n",
    "\n",
    "\n",
    "from sklearn.datasets import load_boston\n",
    "boston=load_boston()\n",
    "df=pd.DataFrame(boston.data,columns=boston.feature_names)\n",
    "df['target']=boston.target\n",
    "\n",
    "x=df.drop('target',axis=1)\n",
    "y=df.target\n",
    "\n",
    "\n",
    "\n",
    "from sklearn.linear_model import LinearRegression\n",
    "lm=LinearRegression()\n",
    "\n",
    "scores1=cross_val_score(lm,x,y,cv=5,scoring='mean_absolute_error')\n",
    "print(scores1.round(2))\n",
    "\n",
    "scores2=cross_val_score(lm,x,y,cv=10,scoring='r2')\n",
    "print(scores2.round(2))"
   ]
  },
  {
   "cell_type": "markdown",
   "metadata": {},
   "source": [
    "Case 1: Linear Model with MAE=-2.62 is the best one amongst the 5 | \n",
    "Case 2: Linear model with R2=-0.78 has the best score"
   ]
  },
  {
   "cell_type": "code",
   "execution_count": null,
   "metadata": {
    "collapsed": false
   },
   "outputs": [],
   "source": []
  },
  {
   "cell_type": "code",
   "execution_count": null,
   "metadata": {
    "collapsed": true
   },
   "outputs": [],
   "source": []
  },
  {
   "cell_type": "code",
   "execution_count": 236,
   "metadata": {
    "collapsed": false
   },
   "outputs": [
    {
     "name": "stdout",
     "output_type": "stream",
     "text": [
      "Accuracy:              0.795455\n",
      "\n",
      "Area Under Curve:      0.732820\n",
      "\n",
      "Confusion Matrix:\n",
      "[[189  16]\n",
      " [ 47  56]]\n",
      "\n",
      "Classification Report:\n",
      "             precision    recall  f1-score   support\n",
      "\n",
      "          0       0.80      0.92      0.86       205\n",
      "          1       0.78      0.54      0.64       103\n",
      "\n",
      "avg / total       0.79      0.80      0.78       308\n",
      "\n"
     ]
    },
    {
     "data": {
      "image/png": "[encoded data removed]",
      "text/plain": [
       "<matplotlib.figure.Figure at 0xd58f65afd0>"
      ]
     },
     "metadata": {},
     "output_type": "display_data"
    }
   ],
   "source": [
    "#LOGISTIC REGRESSION\n",
    "\"\"\"using Train-Test Split\"\"\"\n",
    "\n",
    "from sklearn import metrics\n",
    "from sklearn.cross_validation import train_test_split\n",
    "\n",
    "url = 'https://archive.ics.uci.edu/ml/machine-learning-databases/pima-indians-diabetes/pima-indians-diabetes.data'\n",
    "col_names = ['pregnant', 'glucose', 'bp', 'skin', 'insulin', 'bmi', 'pedigree', 'age', 'label']\n",
    "pima=pd.read_csv(url,header=None,names=col_names)\n",
    "\n",
    "x=pima.drop('label',axis=1)\n",
    "y=pima.label\n",
    "\n",
    "X_train,X_test,y_train,y_test=train_test_split(x,y,random_state=0,test_size=0.4)\n",
    "\n",
    "\n",
    "\n",
    "from sklearn.linear_model import LogisticRegression\n",
    "logreg=LogisticRegression()\n",
    "\n",
    "logreg.fit(X_train,y_train)\n",
    "pred=logreg.predict(X_test)\n",
    "\n",
    "print(\"Accuracy:              %f\"%metrics.accuracy_score(y_test,pred))\n",
    "print(\"\\nArea Under Curve:      %f\"%metrics.roc_auc_score(y_test,pred))\n",
    "print(\"\\nConfusion Matrix:\")\n",
    "print(metrics.confusion_matrix(y_test,pred))\n",
    "print (\"\\nClassification Report:\")\n",
    "print(metrics.classification_report(y_test,pred))\n",
    "\n",
    "y_pred_prob=logreg.predict_proba(X_test)[:,1]\n",
    "fpr,tpr,thresholds=metrics.roc_curve(y_test,y_pred_prob)\n",
    "plt.plot(fpr,tpr)\n",
    "plt.title('ROC Curve')\n",
    "plt.xlabel('False Positive Rate (1-Specificity)')\n",
    "plt.ylabel('True Positive Rate (Sensitivity)')\n",
    "plt.grid(True)"
   ]
  },
  {
   "cell_type": "code",
   "execution_count": null,
   "metadata": {
    "collapsed": true
   },
   "outputs": [],
   "source": []
  },
  {
   "cell_type": "code",
   "execution_count": null,
   "metadata": {
    "collapsed": true
   },
   "outputs": [],
   "source": []
  },
  {
   "cell_type": "code",
   "execution_count": 232,
   "metadata": {
    "collapsed": false
   },
   "outputs": [
    {
     "name": "stdout",
     "output_type": "stream",
     "text": [
      "{'weights': 'distance', 'n_neighbors': 10}\n"
     ]
    }
   ],
   "source": [
    "#K-NEAREST NEIGHBOURS (KNN)\n",
    "\"\"\"using GridSearchCV\"\"\"\n",
    "\n",
    "\n",
    "from sklearn.datasets import load_iris\n",
    "iris=load_iris()\n",
    "x=iris.data\n",
    "y=iris.target\n",
    "\n",
    "from sklearn.neighbors import KNeighborsClassifier\n",
    "knn=KNeighborsClassifier()\n",
    "\n",
    "\n",
    "from sklearn.grid_search import GridSearchCV\n",
    "k_range=list(range(1,31))\n",
    "options=['uniform','distance']\n",
    "\n",
    "param_grid=dict(n_neighbors=k_range,weights=options)\n",
    "\n",
    "grid=GridSearchCV(knn,param_grid,cv=5,scoring='accuracy')\n",
    "grid.fit(x,y)\n",
    "\n",
    "\n",
    "print (grid.best_params_)"
   ]
  },
  {
   "cell_type": "code",
   "execution_count": null,
   "metadata": {
    "collapsed": true
   },
   "outputs": [],
   "source": []
  }
 ],
 "metadata": {
  "anaconda-cloud": {},
  "kernelspec": {
   "display_name": "Python [conda root]",
   "language": "python",
   "name": "conda-root-py"
  },
  "language_info": {
   "codemirror_mode": {
    "name": "ipython",
    "version": 3
   },
   "file_extension": ".py",
   "mimetype": "text/x-python",
   "name": "python",
   "nbconvert_exporter": "python",
   "pygments_lexer": "ipython3",
   "version": "3.5.2"
  }
 },
 "nbformat": 4,
 "nbformat_minor": 1
}
