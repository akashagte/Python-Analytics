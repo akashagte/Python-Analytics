{
 "cells": [
  {
   "cell_type": "code",
   "execution_count": 1,
   "metadata": {
    "collapsed": true
   },
   "outputs": [],
   "source": [
    "%matplotlib inline\n",
    "import sys\n",
    "from __future__ import print_function\n",
    "import matplotlib.pyplot as plt\n",
    "import pandas as pd\n",
    "import numpy as np"
   ]
  },
  {
   "cell_type": "code",
   "execution_count": 65,
   "metadata": {
    "collapsed": true
   },
   "outputs": [],
   "source": [
    "#Importing libraries to implement and test performance of Ensemble models\n",
    "\n",
    "import sklearn.metrics\n",
    "from sklearn.metrics import classification_report\n",
    "from sklearn.ensemble import RandomForestClassifier\n",
    "from sklearn.ensemble import ExtraTreesClassifier\n",
    "from sklearn.ensemble import BaggingClassifier\n",
    "from sklearn.cross_validation import train_test_split\n",
    "from sklearn.tree import DecisionTreeClassifier"
   ]
  },
  {
   "cell_type": "code",
   "execution_count": 69,
   "metadata": {
    "collapsed": false
   },
   "outputs": [
    {
     "data": {
      "text/plain": [
       "Index(['castTotalLikes', 'directorLikes', 'movieLikes', 'fbPosters', 'year',\n",
       "       'duration', 'genre', 'contentRating', 'criticReviews', 'userReviews',\n",
       "       'userVotes', 'rating', 'categories'],\n",
       "      dtype='object')"
      ]
     },
     "execution_count": 69,
     "metadata": {},
     "output_type": "execute_result"
    }
   ],
   "source": [
    "data=pd.read_csv(\"../Going In-depth/IMDb4.csv\")\n",
    "data.columns"
   ]
  },
  {
   "cell_type": "code",
   "execution_count": 72,
   "metadata": {
    "collapsed": false
   },
   "outputs": [],
   "source": [
    "x=data.drop(['categories','rating'],axis=1)\n",
    "y=data.categories\n",
    "X_train,X_test,y_train,y_test=train_test_split(x,y,random_state=0,test_size=0.25)"
   ]
  },
  {
   "cell_type": "code",
   "execution_count": 76,
   "metadata": {
    "collapsed": false
   },
   "outputs": [
    {
     "name": "stdout",
     "output_type": "stream",
     "text": [
      "[[ 79  88   0   0]\n",
      " [ 38 829  11   0]\n",
      " [  0  87  18   0]\n",
      " [  0  10   1   0]]\n",
      "\n",
      "Accuracy:0.797588\n"
     ]
    }
   ],
   "source": [
    "#Running Single Ensemble\n",
    "\n",
    "clf=RandomForestClassifier(n_estimators=20)\n",
    "clf=clf.fit(X_train,y_train)\n",
    "pred=clf.predict(X_test)\n",
    "print(sklearn.metrics.confusion_matrix(y_test,pred))\n",
    "print(\"\\nAccuracy:%f\"%sklearn.metrics.accuracy_score(y_test,pred))"
   ]
  },
  {
   "cell_type": "code",
   "execution_count": 82,
   "metadata": {
    "collapsed": false
   },
   "outputs": [
    {
     "name": "stdout",
     "output_type": "stream",
     "text": [
      "[ 0.0721  0.0791  0.0888  0.0573  0.1117  0.0882  0.0786  0.056   0.0927\n",
      "  0.1062  0.1692]\n"
     ]
    }
   ],
   "source": [
    "#Implementing Extra Tree Classifiers to calculate variable importance\n",
    "model=ExtraTreesClassifier()\n",
    "model=model.fit(X_train,y_train)\n",
    "print(model.feature_importances_.round(4))"
   ]
  },
  {
   "cell_type": "code",
   "execution_count": 84,
   "metadata": {
    "collapsed": false
   },
   "outputs": [
    {
     "name": "stdout",
     "output_type": "stream",
     "text": [
      "Max Accuracy:0.820844\n"
     ]
    },
    {
     "data": {
      "image/png": "[encoded data removed]",
      "text/plain": [
       "<matplotlib.figure.Figure at 0x23c306d4a8>"
      ]
     },
     "metadata": {},
     "output_type": "display_data"
    }
   ],
   "source": [
    "#Test impact on Accuracy by tuning Hyperparameters within RF\n",
    "trees=range(30)\n",
    "accuracy=np.zeros(30)\n",
    "\n",
    "for idx in range(len(trees)):\n",
    "    clf=RandomForestClassifier(n_estimators=idx+1,max_features=0.5)\n",
    "    clf=clf.fit(X_train,y_train)\n",
    "    pred=clf.predict(X_test)\n",
    "    accuracy[idx]=sklearn.metrics.accuracy_score(y_test,pred)\n",
    "plt.cla\n",
    "plt.plot(trees,accuracy)\n",
    "\n",
    "print(\"Max Accuracy:%f\"%accuracy.max())"
   ]
  }
 ],
 "metadata": {
  "anaconda-cloud": {},
  "kernelspec": {
   "display_name": "Python [conda root]",
   "language": "python",
   "name": "conda-root-py"
  },
  "language_info": {
   "codemirror_mode": {
    "name": "ipython",
    "version": 3
   },
   "file_extension": ".py",
   "mimetype": "text/x-python",
   "name": "python",
   "nbconvert_exporter": "python",
   "pygments_lexer": "ipython3",
   "version": "3.5.2"
  }
 },
 "nbformat": 4,
 "nbformat_minor": 1
}
