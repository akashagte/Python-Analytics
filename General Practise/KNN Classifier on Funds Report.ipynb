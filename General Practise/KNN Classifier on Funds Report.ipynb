{
 "cells": [
  {
   "cell_type": "code",
   "execution_count": 113,
   "metadata": {
    "collapsed": true
   },
   "outputs": [],
   "source": [
    "%matplotlib inline\n",
    "from __future__ import print_function\n",
    "import sys\n",
    "import numpy as np\n",
    "import pandas as pd\n",
    "import matplotlib.pyplot as plt"
   ]
  },
  {
   "cell_type": "code",
   "execution_count": 114,
   "metadata": {
    "collapsed": true
   },
   "outputs": [],
   "source": [
    "from sklearn.linear_model import LogisticRegression\n",
    "from sklearn.cross_validation import train_test_split\n",
    "X_train,X_test,y_train,y_test=train_test_split(X,y,random_state=0,test_size=0.4)"
   ]
  },
  {
   "cell_type": "code",
   "execution_count": 115,
   "metadata": {
    "collapsed": false
   },
   "outputs": [],
   "source": [
    "data=pd.read_csv(\"../python practise/FundsReport.csv\")[1:]"
   ]
  },
  {
   "cell_type": "code",
   "execution_count": 123,
   "metadata": {
    "collapsed": false
   },
   "outputs": [
    {
     "data": {
      "text/html": [
       "<div>\n",
       "<table border=\"1\" class=\"dataframe\">\n",
       "  <thead>\n",
       "    <tr style=\"text-align: right;\">\n",
       "      <th></th>\n",
       "      <th>pet_id</th>\n",
       "      <th>shelter_name</th>\n",
       "      <th>shelter_state</th>\n",
       "      <th>amount</th>\n",
       "      <th>method</th>\n",
       "      <th>new_donor</th>\n",
       "      <th>donor_source</th>\n",
       "    </tr>\n",
       "  </thead>\n",
       "  <tbody>\n",
       "    <tr>\n",
       "      <th>7315</th>\n",
       "      <td>943277.0</td>\n",
       "      <td>True &amp; Faithful Pet Rescue Mission</td>\n",
       "      <td>3</td>\n",
       "      <td>1980.0</td>\n",
       "      <td>2</td>\n",
       "      <td>0</td>\n",
       "      <td>9</td>\n",
       "    </tr>\n",
       "    <tr>\n",
       "      <th>7316</th>\n",
       "      <td>879936.0</td>\n",
       "      <td>Heidi's Legacy Dog Rescue</td>\n",
       "      <td>3</td>\n",
       "      <td>2000.0</td>\n",
       "      <td>5</td>\n",
       "      <td>0</td>\n",
       "      <td>12</td>\n",
       "    </tr>\n",
       "    <tr>\n",
       "      <th>7317</th>\n",
       "      <td>823830.0</td>\n",
       "      <td>Collar of Hope</td>\n",
       "      <td>1</td>\n",
       "      <td>2000.0</td>\n",
       "      <td>5</td>\n",
       "      <td>0</td>\n",
       "      <td>12</td>\n",
       "    </tr>\n",
       "    <tr>\n",
       "      <th>7318</th>\n",
       "      <td>707410.0</td>\n",
       "      <td>German Shepherd Rescue Of Orange County</td>\n",
       "      <td>1</td>\n",
       "      <td>2000.0</td>\n",
       "      <td>4</td>\n",
       "      <td>0</td>\n",
       "      <td>12</td>\n",
       "    </tr>\n",
       "    <tr>\n",
       "      <th>7319</th>\n",
       "      <td>962290.0</td>\n",
       "      <td>Animal Ark Rescue</td>\n",
       "      <td>3</td>\n",
       "      <td>3000.0</td>\n",
       "      <td>2</td>\n",
       "      <td>1</td>\n",
       "      <td>12</td>\n",
       "    </tr>\n",
       "  </tbody>\n",
       "</table>\n",
       "</div>"
      ],
      "text/plain": [
       "        pet_id                             shelter_name  shelter_state  \\\n",
       "7315  943277.0       True & Faithful Pet Rescue Mission              3   \n",
       "7316  879936.0                Heidi's Legacy Dog Rescue              3   \n",
       "7317  823830.0                           Collar of Hope              1   \n",
       "7318  707410.0  German Shepherd Rescue Of Orange County              1   \n",
       "7319  962290.0                        Animal Ark Rescue              3   \n",
       "\n",
       "      amount  method  new_donor  donor_source  \n",
       "7315  1980.0       2          0             9  \n",
       "7316  2000.0       5          0            12  \n",
       "7317  2000.0       5          0            12  \n",
       "7318  2000.0       4          0            12  \n",
       "7319  3000.0       2          1            12  "
      ]
     },
     "execution_count": 123,
     "metadata": {},
     "output_type": "execute_result"
    }
   ],
   "source": [
    "data.tail()"
   ]
  },
  {
   "cell_type": "code",
   "execution_count": 129,
   "metadata": {
    "collapsed": false
   },
   "outputs": [
    {
     "name": "stderr",
     "output_type": "stream",
     "text": [
      "C:\\Users\\Akash Agte\\Anaconda3\\lib\\site-packages\\numpy\\lib\\function_base.py:3834: RuntimeWarning: Invalid value encountered in percentile\n",
      "  RuntimeWarning)\n"
     ]
    },
    {
     "data": {
      "text/html": [
       "<div>\n",
       "<table border=\"1\" class=\"dataframe\">\n",
       "  <thead>\n",
       "    <tr style=\"text-align: right;\">\n",
       "      <th></th>\n",
       "      <th>pet_id</th>\n",
       "      <th>shelter_state</th>\n",
       "      <th>amount</th>\n",
       "      <th>method</th>\n",
       "      <th>new_donor</th>\n",
       "      <th>donor_source</th>\n",
       "    </tr>\n",
       "  </thead>\n",
       "  <tbody>\n",
       "    <tr>\n",
       "      <th>count</th>\n",
       "      <td>7.317000e+03</td>\n",
       "      <td>7319.000000</td>\n",
       "      <td>7319.000000</td>\n",
       "      <td>7319.000000</td>\n",
       "      <td>7319.000000</td>\n",
       "      <td>7319.000000</td>\n",
       "    </tr>\n",
       "    <tr>\n",
       "      <th>mean</th>\n",
       "      <td>6.069890e+05</td>\n",
       "      <td>2.462905</td>\n",
       "      <td>41.614678</td>\n",
       "      <td>5.360842</td>\n",
       "      <td>0.530400</td>\n",
       "      <td>11.328733</td>\n",
       "    </tr>\n",
       "    <tr>\n",
       "      <th>std</th>\n",
       "      <td>3.349931e+05</td>\n",
       "      <td>1.106620</td>\n",
       "      <td>92.906801</td>\n",
       "      <td>1.577376</td>\n",
       "      <td>0.499109</td>\n",
       "      <td>2.134039</td>\n",
       "    </tr>\n",
       "    <tr>\n",
       "      <th>min</th>\n",
       "      <td>1.919000e+03</td>\n",
       "      <td>1.000000</td>\n",
       "      <td>1.000000</td>\n",
       "      <td>1.000000</td>\n",
       "      <td>0.000000</td>\n",
       "      <td>1.000000</td>\n",
       "    </tr>\n",
       "    <tr>\n",
       "      <th>25%</th>\n",
       "      <td>NaN</td>\n",
       "      <td>1.000000</td>\n",
       "      <td>10.000000</td>\n",
       "      <td>5.000000</td>\n",
       "      <td>0.000000</td>\n",
       "      <td>12.000000</td>\n",
       "    </tr>\n",
       "    <tr>\n",
       "      <th>50%</th>\n",
       "      <td>NaN</td>\n",
       "      <td>3.000000</td>\n",
       "      <td>20.000000</td>\n",
       "      <td>5.000000</td>\n",
       "      <td>1.000000</td>\n",
       "      <td>12.000000</td>\n",
       "    </tr>\n",
       "    <tr>\n",
       "      <th>75%</th>\n",
       "      <td>NaN</td>\n",
       "      <td>3.000000</td>\n",
       "      <td>50.000000</td>\n",
       "      <td>6.000000</td>\n",
       "      <td>1.000000</td>\n",
       "      <td>12.000000</td>\n",
       "    </tr>\n",
       "    <tr>\n",
       "      <th>max</th>\n",
       "      <td>1.150926e+06</td>\n",
       "      <td>5.000000</td>\n",
       "      <td>3000.000000</td>\n",
       "      <td>8.000000</td>\n",
       "      <td>1.000000</td>\n",
       "      <td>12.000000</td>\n",
       "    </tr>\n",
       "  </tbody>\n",
       "</table>\n",
       "</div>"
      ],
      "text/plain": [
       "             pet_id  shelter_state       amount       method    new_donor  \\\n",
       "count  7.317000e+03    7319.000000  7319.000000  7319.000000  7319.000000   \n",
       "mean   6.069890e+05       2.462905    41.614678     5.360842     0.530400   \n",
       "std    3.349931e+05       1.106620    92.906801     1.577376     0.499109   \n",
       "min    1.919000e+03       1.000000     1.000000     1.000000     0.000000   \n",
       "25%             NaN       1.000000    10.000000     5.000000     0.000000   \n",
       "50%             NaN       3.000000    20.000000     5.000000     1.000000   \n",
       "75%             NaN       3.000000    50.000000     6.000000     1.000000   \n",
       "max    1.150926e+06       5.000000  3000.000000     8.000000     1.000000   \n",
       "\n",
       "       donor_source  \n",
       "count   7319.000000  \n",
       "mean      11.328733  \n",
       "std        2.134039  \n",
       "min        1.000000  \n",
       "25%       12.000000  \n",
       "50%       12.000000  \n",
       "75%       12.000000  \n",
       "max       12.000000  "
      ]
     },
     "execution_count": 129,
     "metadata": {},
     "output_type": "execute_result"
    }
   ],
   "source": [
    "data.describe()"
   ]
  },
  {
   "cell_type": "code",
   "execution_count": 118,
   "metadata": {
    "collapsed": true
   },
   "outputs": [],
   "source": [
    "feature_cols=['shelter_state','method','donor_source']"
   ]
  },
  {
   "cell_type": "code",
   "execution_count": 119,
   "metadata": {
    "collapsed": true
   },
   "outputs": [],
   "source": [
    "X=data[feature_cols]\n",
    "y=data.new_donor"
   ]
  },
  {
   "cell_type": "code",
   "execution_count": 120,
   "metadata": {
    "collapsed": false
   },
   "outputs": [
    {
     "name": "stdout",
     "output_type": "stream",
     "text": [
      "(4391, 3)\n",
      "(4391,)\n",
      "(2928,)\n"
     ]
    }
   ],
   "source": [
    "print (X_train.shape)\n",
    "print (y_train.shape)\n",
    "print (y_test.shape)"
   ]
  },
  {
   "cell_type": "code",
   "execution_count": 124,
   "metadata": {
    "collapsed": false
   },
   "outputs": [
    {
     "name": "stdout",
     "output_type": "stream",
     "text": [
      "[ 0.27986602]\n",
      "[[-0.18864269 -0.06598229  0.0567113 ]]\n"
     ]
    }
   ],
   "source": [
    "logreg=LogisticRegression()\n",
    "logreg.fit(X_train,y_train)\n",
    "print (logreg.intercept_)\n",
    "print (logreg.coef_)"
   ]
  },
  {
   "cell_type": "code",
   "execution_count": 125,
   "metadata": {
    "collapsed": false
   },
   "outputs": [
    {
     "name": "stdout",
     "output_type": "stream",
     "text": [
      "0.556352459016\n"
     ]
    }
   ],
   "source": [
    "y_pred=logreg.predict(X_test)\n",
    "from sklearn import metrics\n",
    "print (metrics.accuracy_score(y_test,y_pred))"
   ]
  },
  {
   "cell_type": "code",
   "execution_count": 130,
   "metadata": {
    "collapsed": false
   },
   "outputs": [
    {
     "data": {
      "text/plain": [
       "<matplotlib.text.Text at 0xc0bf037048>"
      ]
     },
     "execution_count": 130,
     "metadata": {},
     "output_type": "execute_result"
    },
    {
     "data": {
      "image/png": "[encoded data removed]",
      "text/plain": [
       "<matplotlib.figure.Figure at 0xc0beee1a90>"
      ]
     },
     "metadata": {},
     "output_type": "display_data"
    }
   ],
   "source": [
    "y_pred_prob=logreg.predict_proba(X_test)[:,1]\n",
    "plt.hist(y_pred_prob,bins=8)\n",
    "plt.xlim(0,1)\n",
    "plt.ylim(0,1000)\n",
    "plt.title('Histogram of Predicted Probabilities',size=15)\n",
    "plt.xlabel('Predicted Probablity of New Donors')\n",
    "plt.ylabel('Frequency')"
   ]
  },
  {
   "cell_type": "code",
   "execution_count": 131,
   "metadata": {
    "collapsed": false
   },
   "outputs": [
    {
     "name": "stdout",
     "output_type": "stream",
     "text": [
      "[[ 551  801]\n",
      " [ 498 1078]]\n"
     ]
    }
   ],
   "source": [
    "confusion=metrics.confusion_matrix(y_test,y_pred)\n",
    "print (confusion)"
   ]
  }
 ],
 "metadata": {
  "anaconda-cloud": {},
  "kernelspec": {
   "display_name": "Python [default]",
   "language": "python",
   "name": "python3"
  },
  "language_info": {
   "codemirror_mode": {
    "name": "ipython",
    "version": 3
   },
   "file_extension": ".py",
   "mimetype": "text/x-python",
   "name": "python",
   "nbconvert_exporter": "python",
   "pygments_lexer": "ipython3",
   "version": "3.5.2"
  }
 },
 "nbformat": 4,
 "nbformat_minor": 1
}
