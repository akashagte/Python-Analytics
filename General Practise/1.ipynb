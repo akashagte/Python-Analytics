{
 "cells": [
  {
   "cell_type": "code",
   "execution_count": 3,
   "metadata": {
    "collapsed": false
   },
   "outputs": [
    {
     "data": {
      "image/png": "[encoded data removed]",
      "text/plain": [
       "<matplotlib.figure.Figure at 0x4e3082bb38>"
      ]
     },
     "metadata": {},
     "output_type": "display_data"
    }
   ],
   "source": [
    "%matplotlib inline\n",
    "import matplotlib.pyplot as plt\n",
    "import numpy as np\n",
    "incomes=np.random.normal(27000,15000,10000)\n",
    "incomes=np.append(incomes,[1000000000])\n",
    "\n",
    "plt.hist(incomes,50)\n",
    "plt.show()"
   ]
  },
  {
   "cell_type": "code",
   "execution_count": 4,
   "metadata": {
    "collapsed": false
   },
   "outputs": [
    {
     "data": {
      "text/plain": [
       "127245.92656671879"
      ]
     },
     "execution_count": 4,
     "metadata": {},
     "output_type": "execute_result"
    }
   ],
   "source": [
    "incomes.mean()"
   ]
  },
  {
   "cell_type": "code",
   "execution_count": 6,
   "metadata": {
    "collapsed": false
   },
   "outputs": [
    {
     "data": {
      "image/png": "[encoded data removed]",
      "text/plain": [
       "<matplotlib.figure.Figure at 0x4e32867c50>"
      ]
     },
     "metadata": {},
     "output_type": "display_data"
    }
   ],
   "source": [
    "def reject_outliers(data):\n",
    "    u=np.median(data)\n",
    "    s=np.std(data)\n",
    "    filtered=[e for e in data if (u-2*s<e<u+2*s)]\n",
    "    return filtered\n",
    "\n",
    "filtered=reject_outliers(incomes)\n",
    "\n",
    "plt.hist(filtered,50)\n",
    "plt.show()"
   ]
  },
  {
   "cell_type": "code",
   "execution_count": 7,
   "metadata": {
    "collapsed": false
   },
   "outputs": [
    {
     "data": {
      "text/plain": [
       "27258.651159375448"
      ]
     },
     "execution_count": 7,
     "metadata": {},
     "output_type": "execute_result"
    }
   ],
   "source": [
    "np.mean(filtered)"
   ]
  },
  {
   "cell_type": "code",
   "execution_count": 8,
   "metadata": {
    "collapsed": false
   },
   "outputs": [
    {
     "data": {
      "text/plain": [
       "array([ 57.56865722,  48.49860453,  65.4414104 ,  55.80886508,\n",
       "        46.77423628,  54.20794749,  57.60392628,  54.46668823,\n",
       "        49.00016724,  51.75333277])"
      ]
     },
     "execution_count": 8,
     "metadata": {},
     "output_type": "execute_result"
    }
   ],
   "source": [
    "np.random.normal(55.0,5.0,10)"
   ]
  },
  {
   "cell_type": "code",
   "execution_count": 15,
   "metadata": {
    "collapsed": false
   },
   "outputs": [
    {
     "name": "stdout",
     "output_type": "stream",
     "text": [
      "1\n",
      "is odd\n",
      "2\n",
      "is even\n",
      "3\n",
      "is odd\n",
      "4\n",
      "is even\n",
      "5\n",
      "is odd\n",
      "All done\n"
     ]
    }
   ],
   "source": [
    "listOfNumbers=[1,2,3,4,5]\n",
    "\n",
    "for i in listOfNumbers:\n",
    "    print (i)\n",
    "    if(i%2==0):\n",
    "        print (\"is even\")\n",
    "    else:\n",
    "        print (\"is odd\")\n",
    "        \n",
    "print (\"All done\")"
   ]
  },
  {
   "cell_type": "code",
   "execution_count": 18,
   "metadata": {
    "collapsed": false
   },
   "outputs": [
    {
     "data": {
      "text/plain": [
       "'350000'"
      ]
     },
     "execution_count": 18,
     "metadata": {},
     "output_type": "execute_result"
    }
   ],
   "source": [
    "(age,income)=\"12,350000\".split(\",\")\n",
    "age\n",
    "income"
   ]
  },
  {
   "cell_type": "code",
   "execution_count": 21,
   "metadata": {
    "collapsed": false
   },
   "outputs": [
    {
     "name": "stdout",
     "output_type": "stream",
     "text": [
      "27\n"
     ]
    }
   ],
   "source": [
    "def DoSomething(f,x):\n",
    "    return f(x)\n",
    "\n",
    "print(DoSomething(lambda x:x*x*x,3))"
   ]
  },
  {
   "cell_type": "code",
   "execution_count": 22,
   "metadata": {
    "collapsed": false
   },
   "outputs": [
    {
     "name": "stdout",
     "output_type": "stream",
     "text": [
      "Odd\n",
      "Odd\n",
      "Even\n",
      "Odd\n"
     ]
    }
   ],
   "source": [
    "age=[1,45,8,9]\n",
    "\n",
    "for i in age:\n",
    "    if (i%2==0):\n",
    "        print (\"Even\")\n",
    "    else:\n",
    "        print (\"Odd\")"
   ]
  },
  {
   "cell_type": "code",
   "execution_count": 23,
   "metadata": {
    "collapsed": false
   },
   "outputs": [
    {
     "data": {
      "text/plain": [
       "array([40, 61, 45, 30, 61, 61, 81, 38, 51, 57, 72, 81, 87, 69, 27, 65, 73,\n",
       "       41, 64, 23, 28, 27, 19, 24, 29, 77, 69, 54, 45, 75, 88, 27, 50, 73,\n",
       "       51, 32, 79, 61, 31, 43, 58, 81, 50, 48, 70, 61, 27, 64, 18, 71, 49,\n",
       "       40, 80, 70, 31, 72, 81, 23, 73, 28, 59, 75, 53, 48, 29, 89, 52, 41,\n",
       "       31, 86, 59, 83, 35, 25, 86, 52, 67, 41, 39, 83, 31, 28, 64, 64, 27,\n",
       "       21, 82, 24, 54, 89, 75, 23, 84, 89, 84, 61, 54, 84, 23, 80, 51, 39,\n",
       "       31, 69, 66, 72, 55, 34, 82, 50, 48, 88, 60, 35, 84, 39, 83, 81, 80,\n",
       "       47, 81, 61, 29, 72, 25, 41, 36, 78, 76, 40, 28, 37, 65, 72, 78, 25,\n",
       "       88, 79, 21, 89, 87, 29, 62, 61, 50, 49, 26, 25, 31, 28, 28, 55, 24,\n",
       "       87, 26, 40, 38, 70, 27, 51, 66, 40, 61, 58, 32, 21, 25, 40, 31, 52,\n",
       "       75, 64, 22, 34, 26, 42, 43, 81, 26, 48, 71, 65, 86, 26, 75, 38, 58,\n",
       "       49, 43, 49, 81, 66, 62, 38, 33, 60, 27, 83, 81, 57, 24, 81, 60, 31,\n",
       "       46, 34, 46, 87, 30, 54, 39, 35, 63, 47, 79, 36, 70, 52, 84, 37, 85,\n",
       "       79, 29, 50, 79, 82, 45, 81, 35, 46, 35, 65, 60, 73, 75, 48, 52, 30,\n",
       "       24, 32, 82, 36, 65, 50, 21, 83, 80, 52, 19, 86, 43, 68, 18, 59, 41,\n",
       "       59, 50, 18, 65, 38, 86, 69, 33, 42, 75, 56, 56, 64, 50, 54, 37, 74,\n",
       "       47, 43, 55, 37, 79, 27, 49, 83, 40, 31, 69, 42, 86, 27, 47, 74, 26,\n",
       "       47, 51, 67, 56, 38, 47, 39, 39, 29, 82, 42, 78, 58, 70, 48, 26, 62,\n",
       "       35, 80, 36, 80, 19, 61, 58, 45, 19, 25, 35, 46, 32, 80, 52, 57, 43,\n",
       "       26, 89, 70, 33, 73, 18, 77, 54, 25, 59, 21, 25, 68, 77, 32, 34, 82,\n",
       "       35, 43, 22, 51, 82, 57, 51, 69, 78, 64, 88, 21, 83, 79, 65, 23, 65,\n",
       "       63, 64, 70, 49, 59, 64, 87, 55, 33, 72, 75, 54, 23, 18, 37, 21, 59,\n",
       "       37, 64, 68, 73, 81, 60, 57, 66, 63, 18, 32, 60, 83, 54, 85, 36, 24,\n",
       "       54, 32, 25, 18, 20, 45, 26, 38, 86, 71, 32, 35, 69, 21, 21, 34, 45,\n",
       "       63, 56, 45, 41, 79, 83, 57, 71, 44, 25, 26, 46, 20, 34, 33, 69, 66,\n",
       "       74, 71, 50, 31, 84, 44, 20, 76, 56, 37, 44, 53, 40, 24, 31, 39, 75,\n",
       "       54, 20, 54, 40, 30, 21, 89, 59, 58, 62, 52, 44, 18, 28, 85, 88, 64,\n",
       "       60, 71, 41, 50, 80, 60, 59, 43, 53, 46, 76, 25, 63, 25, 30, 88, 42,\n",
       "       55, 22, 20, 56, 37, 55, 85, 86, 52, 22, 40, 29, 33, 85, 65, 71, 69,\n",
       "       32, 53, 80, 46, 37, 20, 64])"
      ]
     },
     "execution_count": 23,
     "metadata": {},
     "output_type": "execute_result"
    }
   ],
   "source": [
    "ages=np.random.randint(18,high=90,size=500)\n",
    "ages"
   ]
  },
  {
   "cell_type": "code",
   "execution_count": 25,
   "metadata": {
    "collapsed": false
   },
   "outputs": [
    {
     "data": {
      "text/plain": [
       "ModeResult(mode=array([25]), count=array([12]))"
      ]
     },
     "execution_count": 25,
     "metadata": {},
     "output_type": "execute_result"
    }
   ],
   "source": [
    "from scipy import stats\n",
    "stats.mode(ages)"
   ]
  },
  {
   "cell_type": "code",
   "execution_count": 27,
   "metadata": {
    "collapsed": false
   },
   "outputs": [
    {
     "data": {
      "text/plain": [
       "27164.449272499591"
      ]
     },
     "execution_count": 27,
     "metadata": {},
     "output_type": "execute_result"
    }
   ],
   "source": [
    "np.median(incomes)"
   ]
  },
  {
   "cell_type": "code",
   "execution_count": 28,
   "metadata": {
    "collapsed": false
   },
   "outputs": [
    {
     "data": {
      "text/plain": [
       "127245.92656671879"
      ]
     },
     "execution_count": 28,
     "metadata": {},
     "output_type": "execute_result"
    }
   ],
   "source": [
    "np.mean(incomes)"
   ]
  },
  {
   "cell_type": "code",
   "execution_count": 31,
   "metadata": {
    "collapsed": false
   },
   "outputs": [
    {
     "data": {
      "text/plain": [
       "9998738.5138976891"
      ]
     },
     "execution_count": 31,
     "metadata": {},
     "output_type": "execute_result"
    }
   ],
   "source": [
    "np.std(incomes)"
   ]
  },
  {
   "cell_type": "code",
   "execution_count": 32,
   "metadata": {
    "collapsed": false
   },
   "outputs": [
    {
     "data": {
      "text/plain": [
       "99974771869300.953"
      ]
     },
     "execution_count": 32,
     "metadata": {},
     "output_type": "execute_result"
    }
   ],
   "source": [
    "np.var(incomes)"
   ]
  },
  {
   "cell_type": "code",
   "execution_count": null,
   "metadata": {
    "collapsed": true
   },
   "outputs": [],
   "source": []
  }
 ],
 "metadata": {
  "anaconda-cloud": {},
  "kernelspec": {
   "display_name": "Python [conda root]",
   "language": "python",
   "name": "conda-root-py"
  },
  "language_info": {
   "codemirror_mode": {
    "name": "ipython",
    "version": 3
   },
   "file_extension": ".py",
   "mimetype": "text/x-python",
   "name": "python",
   "nbconvert_exporter": "python",
   "pygments_lexer": "ipython3",
   "version": "3.5.2"
  }
 },
 "nbformat": 4,
 "nbformat_minor": 1
}
